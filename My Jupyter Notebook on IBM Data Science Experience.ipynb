{
 "cells": [
  {
   "cell_type": "markdown",
   "metadata": {},
   "source": [
    "<h1>My Jupyter Notebook on IBM Data Science Experience</h1>\n"
   ]
  },
  {
   "cell_type": "markdown",
   "metadata": {},
   "source": [
    "<b>Vijay Mali</b>"
   ]
  },
  {
   "cell_type": "markdown",
   "metadata": {},
   "source": [
    "<i>I am interested in data science because Data Scientist is the sexiest job in 21st century and upcoming  world is Data Science world.</i>"
   ]
  },
  {
   "cell_type": "markdown",
   "metadata": {},
   "source": [
    "<h3>My next cell code is on how bank operations are goes on.</h3>"
   ]
  },
  {
   "cell_type": "code",
   "execution_count": null,
   "metadata": {},
   "outputs": [],
   "source": [
    "class Account():\n",
    "    def __init__(self,name,balance=0):\n",
    "        self.name=name\n",
    "        self.balance=balance\n",
    "\n",
    "    def __str__(self):\n",
    "        return f\"Account Holder Name:{self.name}\\nAccount Balance:{self.balance}\\n\"\n",
    "\n",
    "    def deposite(self,amount):\n",
    "        self.balance+=amount\n",
    "        print(\"Amount is Accepted\\n\")\n",
    "\n",
    "    def withdrow(self,amount):\n",
    "        if(self.balance>amount):\n",
    "            self.balance-=amount\n",
    "            print(\"withdrow is Accepted\\n\")\n",
    "        else:\n",
    "            print(\"balance is low\\n\")\n",
    "\n",
    "my_account=Account(\"Vijay\",100)\n",
    "\n",
    "while(True):\n",
    "    print(\"1:for check account Imformation\\n2:for deposite\\n3:for withdrow\\n\")\n",
    "    choise=int(input())\n",
    "    if choise==1 :\n",
    "        print(my_account)\n",
    "    elif choise==2:\n",
    "        a=int(input(\"Enter the amount: \"))\n",
    "        my_account.deposite(a)\n",
    "        a=0\n",
    "    elif choise==3:\n",
    "        a=int(input(\"Enter the amount: \"))\n",
    "        my_account.withdrow(a)\n",
    "        a=0\n",
    "    elif choise==4:\n",
    "        break\n",
    "    else:\n",
    "        print(\"choose correct option\")\n",
    "\n"
   ]
  },
  {
   "cell_type": "markdown",
   "metadata": {},
   "source": [
    "<ul>\n",
    "  <li>code</li>  \n",
    "  <li>Coffee</li>\n",
    "  <li>repeat</li>\n",
    "</ul>\n",
    "<hr>\n",
    "<ol>\n",
    "  <li>code</li>  \n",
    "  <li>Coffee</li>\n",
    "  <li>repeat</li>\n",
    "</ol>\n"
   ]
  },
  {
   "cell_type": "code",
   "execution_count": null,
   "metadata": {},
   "outputs": [],
   "source": []
  }
 ],
 "metadata": {
  "kernelspec": {
   "display_name": "Python",
   "language": "python",
   "name": "conda-env-python-py"
  },
  "language_info": {
   "codemirror_mode": {
    "name": "ipython",
    "version": 3
   },
   "file_extension": ".py",
   "mimetype": "text/x-python",
   "name": "python",
   "nbconvert_exporter": "python",
   "pygments_lexer": "ipython3",
   "version": "3.6.7"
  }
 },
 "nbformat": 4,
 "nbformat_minor": 4
}

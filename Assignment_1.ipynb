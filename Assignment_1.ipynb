{
  "nbformat": 4,
  "nbformat_minor": 0,
  "metadata": {
    "colab": {
      "name": "Assignment-1.ipynb",
      "provenance": [],
      "collapsed_sections": [],
      "authorship_tag": "ABX9TyOTcFd0sPKsVJq0iUNXAi/g",
      "include_colab_link": true
    },
    "kernelspec": {
      "name": "python3",
      "display_name": "Python 3"
    }
  },
  "cells": [
    {
      "cell_type": "markdown",
      "metadata": {
        "id": "view-in-github",
        "colab_type": "text"
      },
      "source": [
        "<a href=\"https://colab.research.google.com/github/vmali007/Machine-Learning/blob/master/Assignment_1.ipynb\" target=\"_parent\"><img src=\"https://colab.research.google.com/assets/colab-badge.svg\" alt=\"Open In Colab\"/></a>"
      ]
    },
    {
      "cell_type": "code",
      "metadata": {
        "id": "GJBEL_IaUxEP",
        "colab_type": "code",
        "colab": {}
      },
      "source": [
        "import pandas as pd\n",
        "import numpy as np\n",
        "import matplotlib.pyplot as plt\n",
        "import seaborn as sns\n"
      ],
      "execution_count": 213,
      "outputs": []
    },
    {
      "cell_type": "code",
      "metadata": {
        "id": "flQeePcdVcev",
        "colab_type": "code",
        "colab": {}
      },
      "source": [
        "path = '/content/Data Analyst Assignment (1).xlsx'\n",
        "data = pd.read_excel(path,sheet_name='Assignment-1')"
      ],
      "execution_count": 214,
      "outputs": []
    },
    {
      "cell_type": "code",
      "metadata": {
        "id": "hGa5v4k1Ue74",
        "colab_type": "code",
        "colab": {
          "base_uri": "https://localhost:8080/",
          "height": 318
        },
        "outputId": "8e421256-9bca-4ab1-a903-edd5be82d727"
      },
      "source": [
        "data.isnull().sum()"
      ],
      "execution_count": 215,
      "outputs": [
        {
          "output_type": "execute_result",
          "data": {
            "text/plain": [
              "Date                      0\n",
              "product                   0\n",
              "phase                     0\n",
              "campaign_platform         0\n",
              "campaign_type             0\n",
              "communication_medium      0\n",
              "subchannel                0\n",
              "audience_type             0\n",
              "creative_type             0\n",
              "creative_name             0\n",
              "device                    0\n",
              "age                       0\n",
              "spends                    0\n",
              "impressions               0\n",
              "clicks                    0\n",
              "link_clicks             546\n",
              "dtype: int64"
            ]
          },
          "metadata": {
            "tags": []
          },
          "execution_count": 215
        }
      ]
    },
    {
      "cell_type": "code",
      "metadata": {
        "id": "ZQSNrxqWV1T2",
        "colab_type": "code",
        "colab": {}
      },
      "source": [
        "df = data.copy()"
      ],
      "execution_count": 216,
      "outputs": []
    },
    {
      "cell_type": "code",
      "metadata": {
        "id": "KsRmIlb6V56Q",
        "colab_type": "code",
        "colab": {
          "base_uri": "https://localhost:8080/",
          "height": 301
        },
        "outputId": "f9ba073e-504f-40de-fc59-d0768bfcca65"
      },
      "source": [
        "df.head()"
      ],
      "execution_count": 217,
      "outputs": [
        {
          "output_type": "execute_result",
          "data": {
            "text/html": [
              "<div>\n",
              "<style scoped>\n",
              "    .dataframe tbody tr th:only-of-type {\n",
              "        vertical-align: middle;\n",
              "    }\n",
              "\n",
              "    .dataframe tbody tr th {\n",
              "        vertical-align: top;\n",
              "    }\n",
              "\n",
              "    .dataframe thead th {\n",
              "        text-align: right;\n",
              "    }\n",
              "</style>\n",
              "<table border=\"1\" class=\"dataframe\">\n",
              "  <thead>\n",
              "    <tr style=\"text-align: right;\">\n",
              "      <th></th>\n",
              "      <th>Date</th>\n",
              "      <th>product</th>\n",
              "      <th>phase</th>\n",
              "      <th>campaign_platform</th>\n",
              "      <th>campaign_type</th>\n",
              "      <th>communication_medium</th>\n",
              "      <th>subchannel</th>\n",
              "      <th>audience_type</th>\n",
              "      <th>creative_type</th>\n",
              "      <th>creative_name</th>\n",
              "      <th>device</th>\n",
              "      <th>age</th>\n",
              "      <th>spends</th>\n",
              "      <th>impressions</th>\n",
              "      <th>clicks</th>\n",
              "      <th>link_clicks</th>\n",
              "    </tr>\n",
              "  </thead>\n",
              "  <tbody>\n",
              "    <tr>\n",
              "      <th>0</th>\n",
              "      <td>2019-10-16</td>\n",
              "      <td>Product 1</td>\n",
              "      <td>Performance</td>\n",
              "      <td>Google Ads</td>\n",
              "      <td>Search</td>\n",
              "      <td>Search Keywords</td>\n",
              "      <td>Brand</td>\n",
              "      <td>'-</td>\n",
              "      <td>'-</td>\n",
              "      <td>'-</td>\n",
              "      <td>Desktop</td>\n",
              "      <td>18-24</td>\n",
              "      <td>0.00</td>\n",
              "      <td>2</td>\n",
              "      <td>0</td>\n",
              "      <td>0.0</td>\n",
              "    </tr>\n",
              "    <tr>\n",
              "      <th>1</th>\n",
              "      <td>2019-10-16</td>\n",
              "      <td>Product 1</td>\n",
              "      <td>Performance</td>\n",
              "      <td>Google Ads</td>\n",
              "      <td>Search</td>\n",
              "      <td>Search Keywords</td>\n",
              "      <td>Brand</td>\n",
              "      <td>'-</td>\n",
              "      <td>'-</td>\n",
              "      <td>'-</td>\n",
              "      <td>Desktop</td>\n",
              "      <td>25-34</td>\n",
              "      <td>0.00</td>\n",
              "      <td>5</td>\n",
              "      <td>0</td>\n",
              "      <td>0.0</td>\n",
              "    </tr>\n",
              "    <tr>\n",
              "      <th>2</th>\n",
              "      <td>2019-10-16</td>\n",
              "      <td>Product 1</td>\n",
              "      <td>Performance</td>\n",
              "      <td>Google Ads</td>\n",
              "      <td>Search</td>\n",
              "      <td>Search Keywords</td>\n",
              "      <td>Brand</td>\n",
              "      <td>'-</td>\n",
              "      <td>'-</td>\n",
              "      <td>'-</td>\n",
              "      <td>Desktop</td>\n",
              "      <td>35-44</td>\n",
              "      <td>0.00</td>\n",
              "      <td>1</td>\n",
              "      <td>0</td>\n",
              "      <td>0.0</td>\n",
              "    </tr>\n",
              "    <tr>\n",
              "      <th>3</th>\n",
              "      <td>2019-10-16</td>\n",
              "      <td>Product 1</td>\n",
              "      <td>Performance</td>\n",
              "      <td>Google Ads</td>\n",
              "      <td>Search</td>\n",
              "      <td>Search Keywords</td>\n",
              "      <td>Brand</td>\n",
              "      <td>'-</td>\n",
              "      <td>'-</td>\n",
              "      <td>'-</td>\n",
              "      <td>Desktop</td>\n",
              "      <td>Undetermined</td>\n",
              "      <td>14.63</td>\n",
              "      <td>5</td>\n",
              "      <td>3</td>\n",
              "      <td>0.0</td>\n",
              "    </tr>\n",
              "    <tr>\n",
              "      <th>4</th>\n",
              "      <td>2019-10-18</td>\n",
              "      <td>Product 1</td>\n",
              "      <td>Performance</td>\n",
              "      <td>Google Ads</td>\n",
              "      <td>Search</td>\n",
              "      <td>Search Keywords</td>\n",
              "      <td>Brand</td>\n",
              "      <td>'-</td>\n",
              "      <td>'-</td>\n",
              "      <td>'-</td>\n",
              "      <td>Desktop</td>\n",
              "      <td>18-24</td>\n",
              "      <td>53.31</td>\n",
              "      <td>10</td>\n",
              "      <td>2</td>\n",
              "      <td>0.0</td>\n",
              "    </tr>\n",
              "  </tbody>\n",
              "</table>\n",
              "</div>"
            ],
            "text/plain": [
              "        Date    product        phase  ... impressions clicks link_clicks\n",
              "0 2019-10-16  Product 1  Performance  ...           2      0         0.0\n",
              "1 2019-10-16  Product 1  Performance  ...           5      0         0.0\n",
              "2 2019-10-16  Product 1  Performance  ...           1      0         0.0\n",
              "3 2019-10-16  Product 1  Performance  ...           5      3         0.0\n",
              "4 2019-10-18  Product 1  Performance  ...          10      2         0.0\n",
              "\n",
              "[5 rows x 16 columns]"
            ]
          },
          "metadata": {
            "tags": []
          },
          "execution_count": 217
        }
      ]
    },
    {
      "cell_type": "code",
      "metadata": {
        "id": "xJ_itbEeV71J",
        "colab_type": "code",
        "colab": {
          "base_uri": "https://localhost:8080/",
          "height": 557
        },
        "outputId": "0aa6058b-1f1d-4f8a-b2a5-55fb65d26c1f"
      },
      "source": [
        "df.describe(include='all')"
      ],
      "execution_count": 218,
      "outputs": [
        {
          "output_type": "execute_result",
          "data": {
            "text/html": [
              "<div>\n",
              "<style scoped>\n",
              "    .dataframe tbody tr th:only-of-type {\n",
              "        vertical-align: middle;\n",
              "    }\n",
              "\n",
              "    .dataframe tbody tr th {\n",
              "        vertical-align: top;\n",
              "    }\n",
              "\n",
              "    .dataframe thead th {\n",
              "        text-align: right;\n",
              "    }\n",
              "</style>\n",
              "<table border=\"1\" class=\"dataframe\">\n",
              "  <thead>\n",
              "    <tr style=\"text-align: right;\">\n",
              "      <th></th>\n",
              "      <th>Date</th>\n",
              "      <th>product</th>\n",
              "      <th>phase</th>\n",
              "      <th>campaign_platform</th>\n",
              "      <th>campaign_type</th>\n",
              "      <th>communication_medium</th>\n",
              "      <th>subchannel</th>\n",
              "      <th>audience_type</th>\n",
              "      <th>creative_type</th>\n",
              "      <th>creative_name</th>\n",
              "      <th>device</th>\n",
              "      <th>age</th>\n",
              "      <th>spends</th>\n",
              "      <th>impressions</th>\n",
              "      <th>clicks</th>\n",
              "      <th>link_clicks</th>\n",
              "    </tr>\n",
              "  </thead>\n",
              "  <tbody>\n",
              "    <tr>\n",
              "      <th>count</th>\n",
              "      <td>16834</td>\n",
              "      <td>16834</td>\n",
              "      <td>16834</td>\n",
              "      <td>16834</td>\n",
              "      <td>16834</td>\n",
              "      <td>16834</td>\n",
              "      <td>16834</td>\n",
              "      <td>16834</td>\n",
              "      <td>16834</td>\n",
              "      <td>16834</td>\n",
              "      <td>16834</td>\n",
              "      <td>16834</td>\n",
              "      <td>16834.000000</td>\n",
              "      <td>16834.000000</td>\n",
              "      <td>16834.000000</td>\n",
              "      <td>16288.000000</td>\n",
              "    </tr>\n",
              "    <tr>\n",
              "      <th>unique</th>\n",
              "      <td>257</td>\n",
              "      <td>1</td>\n",
              "      <td>1</td>\n",
              "      <td>2</td>\n",
              "      <td>2</td>\n",
              "      <td>2</td>\n",
              "      <td>4</td>\n",
              "      <td>4</td>\n",
              "      <td>3</td>\n",
              "      <td>4</td>\n",
              "      <td>4</td>\n",
              "      <td>7</td>\n",
              "      <td>NaN</td>\n",
              "      <td>NaN</td>\n",
              "      <td>NaN</td>\n",
              "      <td>NaN</td>\n",
              "    </tr>\n",
              "    <tr>\n",
              "      <th>top</th>\n",
              "      <td>2020-01-02 00:00:00</td>\n",
              "      <td>Product 1</td>\n",
              "      <td>Performance</td>\n",
              "      <td>Google Ads</td>\n",
              "      <td>Search</td>\n",
              "      <td>Search Keywords</td>\n",
              "      <td>Brand</td>\n",
              "      <td>'-</td>\n",
              "      <td>'-</td>\n",
              "      <td>'-</td>\n",
              "      <td>Mobile</td>\n",
              "      <td>25-34</td>\n",
              "      <td>NaN</td>\n",
              "      <td>NaN</td>\n",
              "      <td>NaN</td>\n",
              "      <td>NaN</td>\n",
              "    </tr>\n",
              "    <tr>\n",
              "      <th>freq</th>\n",
              "      <td>169</td>\n",
              "      <td>16834</td>\n",
              "      <td>16834</td>\n",
              "      <td>15101</td>\n",
              "      <td>15101</td>\n",
              "      <td>15101</td>\n",
              "      <td>7853</td>\n",
              "      <td>15101</td>\n",
              "      <td>15101</td>\n",
              "      <td>15101</td>\n",
              "      <td>7357</td>\n",
              "      <td>3097</td>\n",
              "      <td>NaN</td>\n",
              "      <td>NaN</td>\n",
              "      <td>NaN</td>\n",
              "      <td>NaN</td>\n",
              "    </tr>\n",
              "    <tr>\n",
              "      <th>first</th>\n",
              "      <td>2019-10-16 00:00:00</td>\n",
              "      <td>NaN</td>\n",
              "      <td>NaN</td>\n",
              "      <td>NaN</td>\n",
              "      <td>NaN</td>\n",
              "      <td>NaN</td>\n",
              "      <td>NaN</td>\n",
              "      <td>NaN</td>\n",
              "      <td>NaN</td>\n",
              "      <td>NaN</td>\n",
              "      <td>NaN</td>\n",
              "      <td>NaN</td>\n",
              "      <td>NaN</td>\n",
              "      <td>NaN</td>\n",
              "      <td>NaN</td>\n",
              "      <td>NaN</td>\n",
              "    </tr>\n",
              "    <tr>\n",
              "      <th>last</th>\n",
              "      <td>2020-07-07 00:00:00</td>\n",
              "      <td>NaN</td>\n",
              "      <td>NaN</td>\n",
              "      <td>NaN</td>\n",
              "      <td>NaN</td>\n",
              "      <td>NaN</td>\n",
              "      <td>NaN</td>\n",
              "      <td>NaN</td>\n",
              "      <td>NaN</td>\n",
              "      <td>NaN</td>\n",
              "      <td>NaN</td>\n",
              "      <td>NaN</td>\n",
              "      <td>NaN</td>\n",
              "      <td>NaN</td>\n",
              "      <td>NaN</td>\n",
              "      <td>NaN</td>\n",
              "    </tr>\n",
              "    <tr>\n",
              "      <th>mean</th>\n",
              "      <td>NaN</td>\n",
              "      <td>NaN</td>\n",
              "      <td>NaN</td>\n",
              "      <td>NaN</td>\n",
              "      <td>NaN</td>\n",
              "      <td>NaN</td>\n",
              "      <td>NaN</td>\n",
              "      <td>NaN</td>\n",
              "      <td>NaN</td>\n",
              "      <td>NaN</td>\n",
              "      <td>NaN</td>\n",
              "      <td>NaN</td>\n",
              "      <td>148.694236</td>\n",
              "      <td>287.959190</td>\n",
              "      <td>11.977783</td>\n",
              "      <td>2.170371</td>\n",
              "    </tr>\n",
              "    <tr>\n",
              "      <th>std</th>\n",
              "      <td>NaN</td>\n",
              "      <td>NaN</td>\n",
              "      <td>NaN</td>\n",
              "      <td>NaN</td>\n",
              "      <td>NaN</td>\n",
              "      <td>NaN</td>\n",
              "      <td>NaN</td>\n",
              "      <td>NaN</td>\n",
              "      <td>NaN</td>\n",
              "      <td>NaN</td>\n",
              "      <td>NaN</td>\n",
              "      <td>NaN</td>\n",
              "      <td>483.895724</td>\n",
              "      <td>2444.450313</td>\n",
              "      <td>44.796963</td>\n",
              "      <td>18.659132</td>\n",
              "    </tr>\n",
              "    <tr>\n",
              "      <th>min</th>\n",
              "      <td>NaN</td>\n",
              "      <td>NaN</td>\n",
              "      <td>NaN</td>\n",
              "      <td>NaN</td>\n",
              "      <td>NaN</td>\n",
              "      <td>NaN</td>\n",
              "      <td>NaN</td>\n",
              "      <td>NaN</td>\n",
              "      <td>NaN</td>\n",
              "      <td>NaN</td>\n",
              "      <td>NaN</td>\n",
              "      <td>NaN</td>\n",
              "      <td>0.000000</td>\n",
              "      <td>0.000000</td>\n",
              "      <td>0.000000</td>\n",
              "      <td>0.000000</td>\n",
              "    </tr>\n",
              "    <tr>\n",
              "      <th>25%</th>\n",
              "      <td>NaN</td>\n",
              "      <td>NaN</td>\n",
              "      <td>NaN</td>\n",
              "      <td>NaN</td>\n",
              "      <td>NaN</td>\n",
              "      <td>NaN</td>\n",
              "      <td>NaN</td>\n",
              "      <td>NaN</td>\n",
              "      <td>NaN</td>\n",
              "      <td>NaN</td>\n",
              "      <td>NaN</td>\n",
              "      <td>NaN</td>\n",
              "      <td>0.180000</td>\n",
              "      <td>3.000000</td>\n",
              "      <td>0.000000</td>\n",
              "      <td>0.000000</td>\n",
              "    </tr>\n",
              "    <tr>\n",
              "      <th>50%</th>\n",
              "      <td>NaN</td>\n",
              "      <td>NaN</td>\n",
              "      <td>NaN</td>\n",
              "      <td>NaN</td>\n",
              "      <td>NaN</td>\n",
              "      <td>NaN</td>\n",
              "      <td>NaN</td>\n",
              "      <td>NaN</td>\n",
              "      <td>NaN</td>\n",
              "      <td>NaN</td>\n",
              "      <td>NaN</td>\n",
              "      <td>NaN</td>\n",
              "      <td>22.535000</td>\n",
              "      <td>13.000000</td>\n",
              "      <td>2.000000</td>\n",
              "      <td>0.000000</td>\n",
              "    </tr>\n",
              "    <tr>\n",
              "      <th>75%</th>\n",
              "      <td>NaN</td>\n",
              "      <td>NaN</td>\n",
              "      <td>NaN</td>\n",
              "      <td>NaN</td>\n",
              "      <td>NaN</td>\n",
              "      <td>NaN</td>\n",
              "      <td>NaN</td>\n",
              "      <td>NaN</td>\n",
              "      <td>NaN</td>\n",
              "      <td>NaN</td>\n",
              "      <td>NaN</td>\n",
              "      <td>NaN</td>\n",
              "      <td>110.020000</td>\n",
              "      <td>64.000000</td>\n",
              "      <td>8.000000</td>\n",
              "      <td>0.000000</td>\n",
              "    </tr>\n",
              "    <tr>\n",
              "      <th>max</th>\n",
              "      <td>NaN</td>\n",
              "      <td>NaN</td>\n",
              "      <td>NaN</td>\n",
              "      <td>NaN</td>\n",
              "      <td>NaN</td>\n",
              "      <td>NaN</td>\n",
              "      <td>NaN</td>\n",
              "      <td>NaN</td>\n",
              "      <td>NaN</td>\n",
              "      <td>NaN</td>\n",
              "      <td>NaN</td>\n",
              "      <td>NaN</td>\n",
              "      <td>9221.960000</td>\n",
              "      <td>67454.000000</td>\n",
              "      <td>1075.000000</td>\n",
              "      <td>450.000000</td>\n",
              "    </tr>\n",
              "  </tbody>\n",
              "</table>\n",
              "</div>"
            ],
            "text/plain": [
              "                       Date    product  ...        clicks   link_clicks\n",
              "count                 16834      16834  ...  16834.000000  16288.000000\n",
              "unique                  257          1  ...           NaN           NaN\n",
              "top     2020-01-02 00:00:00  Product 1  ...           NaN           NaN\n",
              "freq                    169      16834  ...           NaN           NaN\n",
              "first   2019-10-16 00:00:00        NaN  ...           NaN           NaN\n",
              "last    2020-07-07 00:00:00        NaN  ...           NaN           NaN\n",
              "mean                    NaN        NaN  ...     11.977783      2.170371\n",
              "std                     NaN        NaN  ...     44.796963     18.659132\n",
              "min                     NaN        NaN  ...      0.000000      0.000000\n",
              "25%                     NaN        NaN  ...      0.000000      0.000000\n",
              "50%                     NaN        NaN  ...      2.000000      0.000000\n",
              "75%                     NaN        NaN  ...      8.000000      0.000000\n",
              "max                     NaN        NaN  ...   1075.000000    450.000000\n",
              "\n",
              "[13 rows x 16 columns]"
            ]
          },
          "metadata": {
            "tags": []
          },
          "execution_count": 218
        }
      ]
    },
    {
      "cell_type": "code",
      "metadata": {
        "id": "WIeqxgChWCRz",
        "colab_type": "code",
        "colab": {}
      },
      "source": [
        "df.drop(['product','phase'],axis=1,inplace=True)"
      ],
      "execution_count": 219,
      "outputs": []
    },
    {
      "cell_type": "code",
      "metadata": {
        "id": "8w8MEiUDWHDo",
        "colab_type": "code",
        "colab": {
          "base_uri": "https://localhost:8080/",
          "height": 390
        },
        "outputId": "a441ef0e-e4fb-47fc-ab67-b0d627ef2314"
      },
      "source": [
        "df.info()"
      ],
      "execution_count": 220,
      "outputs": [
        {
          "output_type": "stream",
          "text": [
            "<class 'pandas.core.frame.DataFrame'>\n",
            "RangeIndex: 16834 entries, 0 to 16833\n",
            "Data columns (total 14 columns):\n",
            " #   Column                Non-Null Count  Dtype         \n",
            "---  ------                --------------  -----         \n",
            " 0   Date                  16834 non-null  datetime64[ns]\n",
            " 1   campaign_platform     16834 non-null  object        \n",
            " 2   campaign_type         16834 non-null  object        \n",
            " 3   communication_medium  16834 non-null  object        \n",
            " 4   subchannel            16834 non-null  object        \n",
            " 5   audience_type         16834 non-null  object        \n",
            " 6   creative_type         16834 non-null  object        \n",
            " 7   creative_name         16834 non-null  object        \n",
            " 8   device                16834 non-null  object        \n",
            " 9   age                   16834 non-null  object        \n",
            " 10  spends                16834 non-null  float64       \n",
            " 11  impressions           16834 non-null  int64         \n",
            " 12  clicks                16834 non-null  int64         \n",
            " 13  link_clicks           16288 non-null  float64       \n",
            "dtypes: datetime64[ns](1), float64(2), int64(2), object(9)\n",
            "memory usage: 1.8+ MB\n"
          ],
          "name": "stdout"
        }
      ]
    },
    {
      "cell_type": "code",
      "metadata": {
        "id": "XTxtopENWLD-",
        "colab_type": "code",
        "colab": {}
      },
      "source": [
        "df['weekday'] = df['Date'].dt.weekday\n",
        "df['day'] = df['Date'].dt.day\n",
        "df['month'] = df['Date'].dt.month\n",
        "df['year'] = df['Date'].dt.year"
      ],
      "execution_count": 221,
      "outputs": []
    },
    {
      "cell_type": "code",
      "metadata": {
        "id": "W6ZK4EAjWSoF",
        "colab_type": "code",
        "colab": {}
      },
      "source": [
        "df['google_ads'] = pd.get_dummies(df['campaign_platform'],drop_first=True)\n",
        "df['search'] = pd.get_dummies(df['campaign_type'],drop_first=True)\n",
        "df['search_keyboard'] = pd.get_dummies(df['communication_medium'],drop_first=True)\n"
      ],
      "execution_count": 222,
      "outputs": []
    },
    {
      "cell_type": "code",
      "metadata": {
        "id": "jNEk1U__kZ7T",
        "colab_type": "code",
        "colab": {}
      },
      "source": [
        "submap = {'Facebook Ads':1,'Generic':2,'Competitor':3,'Brand':4}\n",
        "df['subchannel'] = df['subchannel'].map(submap)"
      ],
      "execution_count": 223,
      "outputs": []
    },
    {
      "cell_type": "code",
      "metadata": {
        "id": "bYxQYWTUoHfP",
        "colab_type": "code",
        "colab": {
          "base_uri": "https://localhost:8080/",
          "height": 301
        },
        "outputId": "f89fe596-266b-498c-f26c-dea7dddaedc2"
      },
      "source": [
        "df.head()"
      ],
      "execution_count": 224,
      "outputs": [
        {
          "output_type": "execute_result",
          "data": {
            "text/html": [
              "<div>\n",
              "<style scoped>\n",
              "    .dataframe tbody tr th:only-of-type {\n",
              "        vertical-align: middle;\n",
              "    }\n",
              "\n",
              "    .dataframe tbody tr th {\n",
              "        vertical-align: top;\n",
              "    }\n",
              "\n",
              "    .dataframe thead th {\n",
              "        text-align: right;\n",
              "    }\n",
              "</style>\n",
              "<table border=\"1\" class=\"dataframe\">\n",
              "  <thead>\n",
              "    <tr style=\"text-align: right;\">\n",
              "      <th></th>\n",
              "      <th>Date</th>\n",
              "      <th>campaign_platform</th>\n",
              "      <th>campaign_type</th>\n",
              "      <th>communication_medium</th>\n",
              "      <th>subchannel</th>\n",
              "      <th>audience_type</th>\n",
              "      <th>creative_type</th>\n",
              "      <th>creative_name</th>\n",
              "      <th>device</th>\n",
              "      <th>age</th>\n",
              "      <th>spends</th>\n",
              "      <th>impressions</th>\n",
              "      <th>clicks</th>\n",
              "      <th>link_clicks</th>\n",
              "      <th>weekday</th>\n",
              "      <th>day</th>\n",
              "      <th>month</th>\n",
              "      <th>year</th>\n",
              "      <th>google_ads</th>\n",
              "      <th>search</th>\n",
              "      <th>search_keyboard</th>\n",
              "    </tr>\n",
              "  </thead>\n",
              "  <tbody>\n",
              "    <tr>\n",
              "      <th>0</th>\n",
              "      <td>2019-10-16</td>\n",
              "      <td>Google Ads</td>\n",
              "      <td>Search</td>\n",
              "      <td>Search Keywords</td>\n",
              "      <td>4</td>\n",
              "      <td>'-</td>\n",
              "      <td>'-</td>\n",
              "      <td>'-</td>\n",
              "      <td>Desktop</td>\n",
              "      <td>18-24</td>\n",
              "      <td>0.00</td>\n",
              "      <td>2</td>\n",
              "      <td>0</td>\n",
              "      <td>0.0</td>\n",
              "      <td>2</td>\n",
              "      <td>16</td>\n",
              "      <td>10</td>\n",
              "      <td>2019</td>\n",
              "      <td>1</td>\n",
              "      <td>1</td>\n",
              "      <td>1</td>\n",
              "    </tr>\n",
              "    <tr>\n",
              "      <th>1</th>\n",
              "      <td>2019-10-16</td>\n",
              "      <td>Google Ads</td>\n",
              "      <td>Search</td>\n",
              "      <td>Search Keywords</td>\n",
              "      <td>4</td>\n",
              "      <td>'-</td>\n",
              "      <td>'-</td>\n",
              "      <td>'-</td>\n",
              "      <td>Desktop</td>\n",
              "      <td>25-34</td>\n",
              "      <td>0.00</td>\n",
              "      <td>5</td>\n",
              "      <td>0</td>\n",
              "      <td>0.0</td>\n",
              "      <td>2</td>\n",
              "      <td>16</td>\n",
              "      <td>10</td>\n",
              "      <td>2019</td>\n",
              "      <td>1</td>\n",
              "      <td>1</td>\n",
              "      <td>1</td>\n",
              "    </tr>\n",
              "    <tr>\n",
              "      <th>2</th>\n",
              "      <td>2019-10-16</td>\n",
              "      <td>Google Ads</td>\n",
              "      <td>Search</td>\n",
              "      <td>Search Keywords</td>\n",
              "      <td>4</td>\n",
              "      <td>'-</td>\n",
              "      <td>'-</td>\n",
              "      <td>'-</td>\n",
              "      <td>Desktop</td>\n",
              "      <td>35-44</td>\n",
              "      <td>0.00</td>\n",
              "      <td>1</td>\n",
              "      <td>0</td>\n",
              "      <td>0.0</td>\n",
              "      <td>2</td>\n",
              "      <td>16</td>\n",
              "      <td>10</td>\n",
              "      <td>2019</td>\n",
              "      <td>1</td>\n",
              "      <td>1</td>\n",
              "      <td>1</td>\n",
              "    </tr>\n",
              "    <tr>\n",
              "      <th>3</th>\n",
              "      <td>2019-10-16</td>\n",
              "      <td>Google Ads</td>\n",
              "      <td>Search</td>\n",
              "      <td>Search Keywords</td>\n",
              "      <td>4</td>\n",
              "      <td>'-</td>\n",
              "      <td>'-</td>\n",
              "      <td>'-</td>\n",
              "      <td>Desktop</td>\n",
              "      <td>Undetermined</td>\n",
              "      <td>14.63</td>\n",
              "      <td>5</td>\n",
              "      <td>3</td>\n",
              "      <td>0.0</td>\n",
              "      <td>2</td>\n",
              "      <td>16</td>\n",
              "      <td>10</td>\n",
              "      <td>2019</td>\n",
              "      <td>1</td>\n",
              "      <td>1</td>\n",
              "      <td>1</td>\n",
              "    </tr>\n",
              "    <tr>\n",
              "      <th>4</th>\n",
              "      <td>2019-10-18</td>\n",
              "      <td>Google Ads</td>\n",
              "      <td>Search</td>\n",
              "      <td>Search Keywords</td>\n",
              "      <td>4</td>\n",
              "      <td>'-</td>\n",
              "      <td>'-</td>\n",
              "      <td>'-</td>\n",
              "      <td>Desktop</td>\n",
              "      <td>18-24</td>\n",
              "      <td>53.31</td>\n",
              "      <td>10</td>\n",
              "      <td>2</td>\n",
              "      <td>0.0</td>\n",
              "      <td>4</td>\n",
              "      <td>18</td>\n",
              "      <td>10</td>\n",
              "      <td>2019</td>\n",
              "      <td>1</td>\n",
              "      <td>1</td>\n",
              "      <td>1</td>\n",
              "    </tr>\n",
              "  </tbody>\n",
              "</table>\n",
              "</div>"
            ],
            "text/plain": [
              "        Date campaign_platform  ... search search_keyboard\n",
              "0 2019-10-16        Google Ads  ...      1               1\n",
              "1 2019-10-16        Google Ads  ...      1               1\n",
              "2 2019-10-16        Google Ads  ...      1               1\n",
              "3 2019-10-16        Google Ads  ...      1               1\n",
              "4 2019-10-18        Google Ads  ...      1               1\n",
              "\n",
              "[5 rows x 21 columns]"
            ]
          },
          "metadata": {
            "tags": []
          },
          "execution_count": 224
        }
      ]
    },
    {
      "cell_type": "code",
      "metadata": {
        "id": "WOJs-Zy9ovqu",
        "colab_type": "code",
        "colab": {}
      },
      "source": [
        "df['audience_type'] = df['audience_type'].replace(\"'-\",'Missing')\n",
        "df['creative_type'] = df['creative_type'].replace(\"'-\",'Missing')\n",
        "df['creative_name'] = df['creative_name'].replace(\"'-\",'Missing')\n"
      ],
      "execution_count": 225,
      "outputs": []
    },
    {
      "cell_type": "code",
      "metadata": {
        "id": "EP-1Nlr0ovdq",
        "colab_type": "code",
        "colab": {}
      },
      "source": [
        "mode = df['age'].mode()[0]\n",
        "df['age_na'] = np.where(df['age'] == 'Undetermined',1,0)\n",
        "df['age'] = df['age'].replace('Undetermined',mode)"
      ],
      "execution_count": 226,
      "outputs": []
    },
    {
      "cell_type": "code",
      "metadata": {
        "id": "COEfcc3U4aAn",
        "colab_type": "code",
        "colab": {
          "base_uri": "https://localhost:8080/",
          "height": 533
        },
        "outputId": "e5858cbb-b1c4-450b-9019-887d700950af"
      },
      "source": [
        "df[['link_clicks','spends']].groupby(['link_clicks']).mean().sort_values(by='spends').plot(kind= 'bar',\n",
        "                                                                                           figsize = (14,8))"
      ],
      "execution_count": 228,
      "outputs": [
        {
          "output_type": "execute_result",
          "data": {
            "text/plain": [
              "<matplotlib.axes._subplots.AxesSubplot at 0x7f187d7ab1d0>"
            ]
          },
          "metadata": {
            "tags": []
          },
          "execution_count": 228
        },
        {
          "output_type": "display_data",
          "data": {
            "image/png": "[encoded data removed]",
            "text/plain": [
              "<Figure size 1008x576 with 1 Axes>"
            ]
          },
          "metadata": {
            "tags": [],
            "needs_background": "light"
          }
        }
      ]
    },
    {
      "cell_type": "code",
      "metadata": {
        "id": "PeSugAbg7KR8",
        "colab_type": "code",
        "colab": {}
      },
      "source": [
        "l_mean = df['link_clicks'].mean()\n",
        "df['link_clicks_na'] = np.where(df['link_clicks'].isnull(),1,0)\n",
        "df['link_clicks'].fillna(l_mean,inplace = True)"
      ],
      "execution_count": 229,
      "outputs": []
    },
    {
      "cell_type": "code",
      "metadata": {
        "id": "8q3yukdCoHV_",
        "colab_type": "code",
        "colab": {
          "base_uri": "https://localhost:8080/",
          "height": 452
        },
        "outputId": "9427b5e6-8af0-4bd4-fd19-472e1ccdcc5f"
      },
      "source": [
        "df[['audience_type','spends']].groupby(['audience_type']).mean().sort_values(by='spends').plot(kind= 'bar',\n",
        "                                                                                               figsize=(10,6))"
      ],
      "execution_count": 230,
      "outputs": [
        {
          "output_type": "execute_result",
          "data": {
            "text/plain": [
              "<matplotlib.axes._subplots.AxesSubplot at 0x7f18918ec7f0>"
            ]
          },
          "metadata": {
            "tags": []
          },
          "execution_count": 230
        },
        {
          "output_type": "display_data",
          "data": {
            "image/png": "[encoded data removed]",
            "text/plain": [
              "<Figure size 720x432 with 1 Axes>"
            ]
          },
          "metadata": {
            "tags": [],
            "needs_background": "light"
          }
        }
      ]
    },
    {
      "cell_type": "markdown",
      "metadata": {
        "id": "pnNfUkYj9f2V",
        "colab_type": "text"
      },
      "source": [
        "   **By this we can say Audience of type Audience 1 spends more then others**\n",
        "\n",
        "\n"
      ]
    },
    {
      "cell_type": "code",
      "metadata": {
        "id": "z0M1efZI9aHQ",
        "colab_type": "code",
        "colab": {}
      },
      "source": [
        "df['audience_type_na'] = np.where(df['audience_type'] is 'Missing',1,0)\n",
        "audi_map = {'Audience 1':1,'Missing':2,'Audience 2':3,'Audience 3':4}\n",
        "df['audience_type'] = df['audience_type'].map(audi_map)"
      ],
      "execution_count": 231,
      "outputs": []
    },
    {
      "cell_type": "code",
      "metadata": {
        "id": "OzCmOZcgAG9E",
        "colab_type": "code",
        "colab": {
          "base_uri": "https://localhost:8080/",
          "height": 440
        },
        "outputId": "6f4feeda-46a7-4561-819a-77fc6a9b8f17"
      },
      "source": [
        "df[['creative_type','spends']].groupby(['creative_type']).mean().sort_values(by='spends').plot(kind= 'bar',\n",
        "                                                                                               figsize=(10,6))"
      ],
      "execution_count": 232,
      "outputs": [
        {
          "output_type": "execute_result",
          "data": {
            "text/plain": [
              "<matplotlib.axes._subplots.AxesSubplot at 0x7f187fbe5f60>"
            ]
          },
          "metadata": {
            "tags": []
          },
          "execution_count": 232
        },
        {
          "output_type": "display_data",
          "data": {
            "image/png": "[encoded data removed]",
            "text/plain": [
              "<Figure size 720x432 with 1 Axes>"
            ]
          },
          "metadata": {
            "tags": [],
            "needs_background": "light"
          }
        }
      ]
    },
    {
      "cell_type": "markdown",
      "metadata": {
        "id": "EZKVhlabAgJo",
        "colab_type": "text"
      },
      "source": [
        "**For Creative type Image people spends more than for others**"
      ]
    },
    {
      "cell_type": "code",
      "metadata": {
        "id": "REnrOWaOV8Sn",
        "colab_type": "code",
        "colab": {
          "base_uri": "https://localhost:8080/",
          "height": 87
        },
        "outputId": "af7065b5-3970-4afa-c8f1-df320f549c4a"
      },
      "source": [
        "df['creative_type'].value_counts()"
      ],
      "execution_count": 233,
      "outputs": [
        {
          "output_type": "execute_result",
          "data": {
            "text/plain": [
              "Missing     15101\n",
              "Image        1130\n",
              "Carousal      603\n",
              "Name: creative_type, dtype: int64"
            ]
          },
          "metadata": {
            "tags": []
          },
          "execution_count": 233
        }
      ]
    },
    {
      "cell_type": "code",
      "metadata": {
        "id": "iTlS-jgRAee3",
        "colab_type": "code",
        "colab": {}
      },
      "source": [
        "df['creative_type_na'] = np.where(df['creative_type']=='Missing',1,0)\n",
        "Crea_map = {'Image':1,'Missing':2,'Carousal':3}\n",
        "df['creative_type'] = df['creative_type'].map(Crea_map)"
      ],
      "execution_count": 234,
      "outputs": []
    },
    {
      "cell_type": "code",
      "metadata": {
        "id": "YxJNEP9pEGnJ",
        "colab_type": "code",
        "colab": {
          "base_uri": "https://localhost:8080/",
          "height": 440
        },
        "outputId": "4b4544b7-df3e-4bb3-8d19-b534fd94c3a1"
      },
      "source": [
        "df[['creative_name','spends']].groupby(['creative_name']).mean().sort_values(by='spends').plot(kind= 'bar',\n",
        "                                                                                               figsize=(10,6))"
      ],
      "execution_count": 236,
      "outputs": [
        {
          "output_type": "execute_result",
          "data": {
            "text/plain": [
              "<matplotlib.axes._subplots.AxesSubplot at 0x7f187dcb8c50>"
            ]
          },
          "metadata": {
            "tags": []
          },
          "execution_count": 236
        },
        {
          "output_type": "display_data",
          "data": {
            "image/png": "[encoded data removed]",
            "text/plain": [
              "<Figure size 720x432 with 1 Axes>"
            ]
          },
          "metadata": {
            "tags": [],
            "needs_background": "light"
          }
        }
      ]
    },
    {
      "cell_type": "markdown",
      "metadata": {
        "id": "ZyRR0vrAEWWn",
        "colab_type": "text"
      },
      "source": [
        "**By above figure we can say people like to spend more on creative name Click than others**"
      ]
    },
    {
      "cell_type": "code",
      "metadata": {
        "id": "VWTsSCkvWb7s",
        "colab_type": "code",
        "colab": {
          "base_uri": "https://localhost:8080/",
          "height": 105
        },
        "outputId": "37fd9898-cffc-4840-f43f-d1e5501c6915"
      },
      "source": [
        "df['creative_name'].value_counts()"
      ],
      "execution_count": 237,
      "outputs": [
        {
          "output_type": "execute_result",
          "data": {
            "text/plain": [
              "Missing     15101\n",
              "Click         644\n",
              "Carousal      603\n",
              "Girl          486\n",
              "Name: creative_name, dtype: int64"
            ]
          },
          "metadata": {
            "tags": []
          },
          "execution_count": 237
        }
      ]
    },
    {
      "cell_type": "code",
      "metadata": {
        "id": "gsfkCbqhEGUl",
        "colab_type": "code",
        "colab": {}
      },
      "source": [
        "df['creative_name_na'] = np.where(df['creative_name']=='Missing',1,0)\n",
        "crea_map = {'Click':1,'Missing':2,'Girl':3,'Carousal':4}\n",
        "df['creative_name'] = df['creative_name'].map(crea_map)"
      ],
      "execution_count": 238,
      "outputs": []
    },
    {
      "cell_type": "code",
      "metadata": {
        "id": "enE_JO2IEF_t",
        "colab_type": "code",
        "colab": {
          "base_uri": "https://localhost:8080/",
          "height": 436
        },
        "outputId": "390310c0-8e85-4479-c0f4-c2a4c9d5492b"
      },
      "source": [
        "df[['device','spends']].groupby(['device']).mean().sort_values(by='spends').plot(kind= 'bar',\n",
        "                                                                                               figsize=(10,6))"
      ],
      "execution_count": 239,
      "outputs": [
        {
          "output_type": "execute_result",
          "data": {
            "text/plain": [
              "<matplotlib.axes._subplots.AxesSubplot at 0x7f187dc4d198>"
            ]
          },
          "metadata": {
            "tags": []
          },
          "execution_count": 239
        },
        {
          "output_type": "display_data",
          "data": {
            "image/png": "[encoded data removed]",
            "text/plain": [
              "<Figure size 720x432 with 1 Axes>"
            ]
          },
          "metadata": {
            "tags": [],
            "needs_background": "light"
          }
        }
      ]
    },
    {
      "cell_type": "markdown",
      "metadata": {
        "id": "_RVG6U9CGtbB",
        "colab_type": "text"
      },
      "source": [
        "**People spend more on devices followed by Mobile Desktop**"
      ]
    },
    {
      "cell_type": "code",
      "metadata": {
        "id": "Cpx4BWpwEFre",
        "colab_type": "code",
        "colab": {}
      },
      "source": [
        "dev_map = {'device':1,'Mobile':2,'Desktop':3,'Tablet':4}\n",
        "df['device'] = df['device'].map(dev_map)"
      ],
      "execution_count": 240,
      "outputs": []
    },
    {
      "cell_type": "code",
      "metadata": {
        "id": "xTOd0e3sIRWX",
        "colab_type": "code",
        "colab": {
          "base_uri": "https://localhost:8080/",
          "height": 451
        },
        "outputId": "58f2b3f1-aba3-4dc2-9826-b8ac45fe7982"
      },
      "source": [
        "df[['age','spends']].groupby(['age']).mean().sort_values(by='spends').plot(kind= 'bar',\n",
        "                                                                                               figsize=(10,6))"
      ],
      "execution_count": 241,
      "outputs": [
        {
          "output_type": "execute_result",
          "data": {
            "text/plain": [
              "<matplotlib.axes._subplots.AxesSubplot at 0x7f187c9b6400>"
            ]
          },
          "metadata": {
            "tags": []
          },
          "execution_count": 241
        },
        {
          "output_type": "display_data",
          "data": {
            "image/png": "[encoded data removed]",
            "text/plain": [
              "<Figure size 720x432 with 1 Axes>"
            ]
          },
          "metadata": {
            "tags": [],
            "needs_background": "light"
          }
        }
      ]
    },
    {
      "cell_type": "markdown",
      "metadata": {
        "id": "AGa0gZh0Jm6m",
        "colab_type": "text"
      },
      "source": [
        "**Hence We conclude that all Young People spends more than old People**"
      ]
    },
    {
      "cell_type": "code",
      "metadata": {
        "id": "H0g3F9aAYA8H",
        "colab_type": "code",
        "colab": {
          "base_uri": "https://localhost:8080/",
          "height": 141
        },
        "outputId": "48e50723-1b7d-41fe-e1c4-222f11294b56"
      },
      "source": [
        "df['age'].value_counts()"
      ],
      "execution_count": 242,
      "outputs": [
        {
          "output_type": "execute_result",
          "data": {
            "text/plain": [
              "25-34         5683\n",
              "35-44         2865\n",
              "45-54         2499\n",
              "18-24         2472\n",
              "55-64         1757\n",
              "65 or more    1558\n",
              "Name: age, dtype: int64"
            ]
          },
          "metadata": {
            "tags": []
          },
          "execution_count": 242
        }
      ]
    },
    {
      "cell_type": "code",
      "metadata": {
        "id": "20tka4eRIRNS",
        "colab_type": "code",
        "colab": {}
      },
      "source": [
        "ag_map = {'18-24':1,'25-34':2,'35-44':3,'45-54':4,'55-64':5,'65 or more':6}\n",
        "df['age'] = df['age'].map(ag_map)"
      ],
      "execution_count": 243,
      "outputs": []
    },
    {
      "cell_type": "code",
      "metadata": {
        "id": "ISgskS9PIQ_h",
        "colab_type": "code",
        "colab": {
          "base_uri": "https://localhost:8080/",
          "height": 293
        },
        "outputId": "b81c0ec0-843a-4a3b-9e3f-c06804e7c447"
      },
      "source": [
        "df[['weekday','spends']].groupby(['weekday']).mean().plot(kind='bar')"
      ],
      "execution_count": 245,
      "outputs": [
        {
          "output_type": "execute_result",
          "data": {
            "text/plain": [
              "<matplotlib.axes._subplots.AxesSubplot at 0x7f187c9f7c88>"
            ]
          },
          "metadata": {
            "tags": []
          },
          "execution_count": 245
        },
        {
          "output_type": "display_data",
          "data": {
            "image/png": "[encoded data removed]",
            "text/plain": [
              "<Figure size 432x288 with 1 Axes>"
            ]
          },
          "metadata": {
            "tags": [],
            "needs_background": "light"
          }
        }
      ]
    },
    {
      "cell_type": "code",
      "metadata": {
        "id": "itieejIAIQwi",
        "colab_type": "code",
        "colab": {
          "base_uri": "https://localhost:8080/",
          "height": 408
        },
        "outputId": "afa60f5a-cef4-4649-bd17-9909ee26587c"
      },
      "source": [
        "df[['month','spends']].groupby(['month']).mean().plot(kind='bar',figsize = (10,6))"
      ],
      "execution_count": 246,
      "outputs": [
        {
          "output_type": "execute_result",
          "data": {
            "text/plain": [
              "<matplotlib.axes._subplots.AxesSubplot at 0x7f187c91dba8>"
            ]
          },
          "metadata": {
            "tags": []
          },
          "execution_count": 246
        },
        {
          "output_type": "display_data",
          "data": {
            "image/png": "[encoded data removed]",
            "text/plain": [
              "<Figure size 720x432 with 1 Axes>"
            ]
          },
          "metadata": {
            "tags": [],
            "needs_background": "light"
          }
        }
      ]
    },
    {
      "cell_type": "markdown",
      "metadata": {
        "id": "grUsNMfBgUtB",
        "colab_type": "text"
      },
      "source": [
        "**As we can see the spending in month from April to Jully is very Low**"
      ]
    },
    {
      "cell_type": "code",
      "metadata": {
        "id": "787qw9hZBfj5",
        "colab_type": "code",
        "colab": {
          "base_uri": "https://localhost:8080/",
          "height": 315
        },
        "outputId": "c4ac55dc-e609-4960-d12e-7a2aab8fd0a8"
      },
      "source": [
        "df[['year','spends']].groupby(['year']).mean().plot(kind='bar')"
      ],
      "execution_count": 247,
      "outputs": [
        {
          "output_type": "execute_result",
          "data": {
            "text/plain": [
              "<matplotlib.axes._subplots.AxesSubplot at 0x7f187c850ac8>"
            ]
          },
          "metadata": {
            "tags": []
          },
          "execution_count": 247
        },
        {
          "output_type": "display_data",
          "data": {
            "image/png": "[encoded data removed]",
            "text/plain": [
              "<Figure size 432x288 with 1 Axes>"
            ]
          },
          "metadata": {
            "tags": [],
            "needs_background": "light"
          }
        }
      ]
    },
    {
      "cell_type": "markdown",
      "metadata": {
        "id": "JXMymQ_Iq8US",
        "colab_type": "text"
      },
      "source": [
        "**The spending in 2019 is more then the 2020 beacause as we see above in 4 months april to jully the spending was less**"
      ]
    },
    {
      "cell_type": "code",
      "metadata": {
        "id": "gsb_uRMMWW6g",
        "colab_type": "code",
        "colab": {
          "base_uri": "https://localhost:8080/",
          "height": 355
        },
        "outputId": "92cdee27-a443-4a9a-f0e7-0ae8b7af38b6"
      },
      "source": [
        "df[['campaign_platform','spends']].groupby(['campaign_platform']).mean().sort_values(by='spends').plot(kind= 'bar')"
      ],
      "execution_count": 248,
      "outputs": [
        {
          "output_type": "execute_result",
          "data": {
            "text/plain": [
              "<matplotlib.axes._subplots.AxesSubplot at 0x7f187c7b9080>"
            ]
          },
          "metadata": {
            "tags": []
          },
          "execution_count": 248
        },
        {
          "output_type": "display_data",
          "data": {
            "image/png": "[encoded data removed]",
            "text/plain": [
              "<Figure size 432x288 with 1 Axes>"
            ]
          },
          "metadata": {
            "tags": [],
            "needs_background": "light"
          }
        }
      ]
    },
    {
      "cell_type": "markdown",
      "metadata": {
        "id": "lZ7dxWIGdWoG",
        "colab_type": "text"
      },
      "source": [
        "Peoples Spend more by Facebook aids as compare to Google aids"
      ]
    },
    {
      "cell_type": "code",
      "metadata": {
        "id": "xaAj5dzkWiTP",
        "colab_type": "code",
        "colab": {
          "base_uri": "https://localhost:8080/",
          "height": 293
        },
        "outputId": "0e802006-1fbc-4a9e-880f-448e9a88f49c"
      },
      "source": [
        "df[['subchannel','spends']].groupby(['subchannel']).mean().sort_values(by='spends').plot(kind='bar')"
      ],
      "execution_count": 249,
      "outputs": [
        {
          "output_type": "execute_result",
          "data": {
            "text/plain": [
              "<matplotlib.axes._subplots.AxesSubplot at 0x7f187c79a630>"
            ]
          },
          "metadata": {
            "tags": []
          },
          "execution_count": 249
        },
        {
          "output_type": "display_data",
          "data": {
            "image/png": "[encoded data removed]",
            "text/plain": [
              "<Figure size 432x288 with 1 Axes>"
            ]
          },
          "metadata": {
            "tags": [],
            "needs_background": "light"
          }
        }
      ]
    },
    {
      "cell_type": "markdown",
      "metadata": {
        "id": "vYVS36hlsV6b",
        "colab_type": "text"
      },
      "source": [
        "In subchannel also people spend by facebook ads"
      ]
    },
    {
      "cell_type": "code",
      "metadata": {
        "id": "UJfafpyVtgHr",
        "colab_type": "code",
        "colab": {}
      },
      "source": [
        "df.drop(['Date','campaign_platform','campaign_type','communication_medium'],axis = 1,inplace=True)"
      ],
      "execution_count": 250,
      "outputs": []
    },
    {
      "cell_type": "code",
      "metadata": {
        "id": "vxrbx5GkudBD",
        "colab_type": "code",
        "colab": {
          "base_uri": "https://localhost:8080/",
          "height": 1000
        },
        "outputId": "722fe0c5-0747-48d9-e385-e72535389a2c"
      },
      "source": [
        "plt.figure(figsize=(16,16))\n",
        "ax = sns.heatmap(df.corr(),annot=True,cmap=\"RdYlGn\")\n"
      ],
      "execution_count": 251,
      "outputs": [
        {
          "output_type": "display_data",
          "data": {
            "image/png": "[encoded data removed]",
            "text/plain": [
              "<Figure size 1152x1152 with 2 Axes>"
            ]
          },
          "metadata": {
            "tags": [],
            "needs_background": "light"
          }
        }
      ]
    },
    {
      "cell_type": "code",
      "metadata": {
        "id": "C6fhovH6xFt9",
        "colab_type": "code",
        "colab": {}
      },
      "source": [
        "X = df.drop('spends',axis=1)\n",
        "y = df['spends']\n",
        "df1 = df.copy()"
      ],
      "execution_count": 269,
      "outputs": []
    },
    {
      "cell_type": "code",
      "metadata": {
        "id": "pOAM4S6jjN56",
        "colab_type": "code",
        "colab": {
          "base_uri": "https://localhost:8080/",
          "height": 232
        },
        "outputId": "ab8d1a29-4725-4c4d-d25a-fb8597052e4a"
      },
      "source": [
        "from sklearn.feature_selection import SelectKBest,f_classif\n",
        "\n",
        "selector = SelectKBest(f_classif,k=20)\n",
        "\n",
        "X_new = selector.fit_transform(X,y)\n",
        "X_new"
      ],
      "execution_count": 270,
      "outputs": [
        {
          "output_type": "stream",
          "text": [
            "/usr/local/lib/python3.6/dist-packages/sklearn/feature_selection/_univariate_selection.py:114: UserWarning: Features [18] are constant.\n",
            "  UserWarning)\n",
            "/usr/local/lib/python3.6/dist-packages/sklearn/feature_selection/_univariate_selection.py:115: RuntimeWarning: invalid value encountered in true_divide\n",
            "  f = msb / msw\n"
          ],
          "name": "stderr"
        },
        {
          "output_type": "execute_result",
          "data": {
            "text/plain": [
              "array([[4., 2., 2., ..., 0., 1., 1.],\n",
              "       [4., 2., 2., ..., 0., 1., 1.],\n",
              "       [4., 2., 2., ..., 0., 1., 1.],\n",
              "       ...,\n",
              "       [4., 2., 2., ..., 0., 1., 1.],\n",
              "       [4., 2., 2., ..., 0., 1., 1.],\n",
              "       [4., 2., 2., ..., 0., 1., 1.]])"
            ]
          },
          "metadata": {
            "tags": []
          },
          "execution_count": 270
        }
      ]
    },
    {
      "cell_type": "code",
      "metadata": {
        "id": "gp6MQxuQqIVA",
        "colab_type": "code",
        "colab": {}
      },
      "source": [
        "selected_features = pd.DataFrame(selector.inverse_transform(X_new),index=X.index,columns=X.columns)\n",
        "selected_col = selected_features.columns[selected_features.var() != 0]\n",
        "X = X[selected_col]"
      ],
      "execution_count": 271,
      "outputs": []
    },
    {
      "cell_type": "code",
      "metadata": {
        "id": "HfHcEnnKrNjj",
        "colab_type": "code",
        "colab": {
          "base_uri": "https://localhost:8080/",
          "height": 217
        },
        "outputId": "34065fdb-7e03-4cd8-9b44-4ad17bcaf82f"
      },
      "source": [
        "X.head()"
      ],
      "execution_count": 272,
      "outputs": [
        {
          "output_type": "execute_result",
          "data": {
            "text/html": [
              "<div>\n",
              "<style scoped>\n",
              "    .dataframe tbody tr th:only-of-type {\n",
              "        vertical-align: middle;\n",
              "    }\n",
              "\n",
              "    .dataframe tbody tr th {\n",
              "        vertical-align: top;\n",
              "    }\n",
              "\n",
              "    .dataframe thead th {\n",
              "        text-align: right;\n",
              "    }\n",
              "</style>\n",
              "<table border=\"1\" class=\"dataframe\">\n",
              "  <thead>\n",
              "    <tr style=\"text-align: right;\">\n",
              "      <th></th>\n",
              "      <th>subchannel</th>\n",
              "      <th>audience_type</th>\n",
              "      <th>creative_type</th>\n",
              "      <th>creative_name</th>\n",
              "      <th>device</th>\n",
              "      <th>age</th>\n",
              "      <th>impressions</th>\n",
              "      <th>clicks</th>\n",
              "      <th>link_clicks</th>\n",
              "      <th>weekday</th>\n",
              "      <th>day</th>\n",
              "      <th>month</th>\n",
              "      <th>year</th>\n",
              "      <th>google_ads</th>\n",
              "      <th>search</th>\n",
              "      <th>search_keyboard</th>\n",
              "      <th>age_na</th>\n",
              "      <th>link_clicks_na</th>\n",
              "      <th>creative_type_na</th>\n",
              "      <th>creative_name_na</th>\n",
              "    </tr>\n",
              "  </thead>\n",
              "  <tbody>\n",
              "    <tr>\n",
              "      <th>0</th>\n",
              "      <td>4</td>\n",
              "      <td>2</td>\n",
              "      <td>2</td>\n",
              "      <td>2</td>\n",
              "      <td>3</td>\n",
              "      <td>1</td>\n",
              "      <td>2</td>\n",
              "      <td>0</td>\n",
              "      <td>0.0</td>\n",
              "      <td>2</td>\n",
              "      <td>16</td>\n",
              "      <td>10</td>\n",
              "      <td>2019</td>\n",
              "      <td>1</td>\n",
              "      <td>1</td>\n",
              "      <td>1</td>\n",
              "      <td>0</td>\n",
              "      <td>0</td>\n",
              "      <td>1</td>\n",
              "      <td>1</td>\n",
              "    </tr>\n",
              "    <tr>\n",
              "      <th>1</th>\n",
              "      <td>4</td>\n",
              "      <td>2</td>\n",
              "      <td>2</td>\n",
              "      <td>2</td>\n",
              "      <td>3</td>\n",
              "      <td>2</td>\n",
              "      <td>5</td>\n",
              "      <td>0</td>\n",
              "      <td>0.0</td>\n",
              "      <td>2</td>\n",
              "      <td>16</td>\n",
              "      <td>10</td>\n",
              "      <td>2019</td>\n",
              "      <td>1</td>\n",
              "      <td>1</td>\n",
              "      <td>1</td>\n",
              "      <td>0</td>\n",
              "      <td>0</td>\n",
              "      <td>1</td>\n",
              "      <td>1</td>\n",
              "    </tr>\n",
              "    <tr>\n",
              "      <th>2</th>\n",
              "      <td>4</td>\n",
              "      <td>2</td>\n",
              "      <td>2</td>\n",
              "      <td>2</td>\n",
              "      <td>3</td>\n",
              "      <td>3</td>\n",
              "      <td>1</td>\n",
              "      <td>0</td>\n",
              "      <td>0.0</td>\n",
              "      <td>2</td>\n",
              "      <td>16</td>\n",
              "      <td>10</td>\n",
              "      <td>2019</td>\n",
              "      <td>1</td>\n",
              "      <td>1</td>\n",
              "      <td>1</td>\n",
              "      <td>0</td>\n",
              "      <td>0</td>\n",
              "      <td>1</td>\n",
              "      <td>1</td>\n",
              "    </tr>\n",
              "    <tr>\n",
              "      <th>3</th>\n",
              "      <td>4</td>\n",
              "      <td>2</td>\n",
              "      <td>2</td>\n",
              "      <td>2</td>\n",
              "      <td>3</td>\n",
              "      <td>2</td>\n",
              "      <td>5</td>\n",
              "      <td>3</td>\n",
              "      <td>0.0</td>\n",
              "      <td>2</td>\n",
              "      <td>16</td>\n",
              "      <td>10</td>\n",
              "      <td>2019</td>\n",
              "      <td>1</td>\n",
              "      <td>1</td>\n",
              "      <td>1</td>\n",
              "      <td>1</td>\n",
              "      <td>0</td>\n",
              "      <td>1</td>\n",
              "      <td>1</td>\n",
              "    </tr>\n",
              "    <tr>\n",
              "      <th>4</th>\n",
              "      <td>4</td>\n",
              "      <td>2</td>\n",
              "      <td>2</td>\n",
              "      <td>2</td>\n",
              "      <td>3</td>\n",
              "      <td>1</td>\n",
              "      <td>10</td>\n",
              "      <td>2</td>\n",
              "      <td>0.0</td>\n",
              "      <td>4</td>\n",
              "      <td>18</td>\n",
              "      <td>10</td>\n",
              "      <td>2019</td>\n",
              "      <td>1</td>\n",
              "      <td>1</td>\n",
              "      <td>1</td>\n",
              "      <td>0</td>\n",
              "      <td>0</td>\n",
              "      <td>1</td>\n",
              "      <td>1</td>\n",
              "    </tr>\n",
              "  </tbody>\n",
              "</table>\n",
              "</div>"
            ],
            "text/plain": [
              "   subchannel  audience_type  ...  creative_type_na  creative_name_na\n",
              "0           4              2  ...                 1                 1\n",
              "1           4              2  ...                 1                 1\n",
              "2           4              2  ...                 1                 1\n",
              "3           4              2  ...                 1                 1\n",
              "4           4              2  ...                 1                 1\n",
              "\n",
              "[5 rows x 20 columns]"
            ]
          },
          "metadata": {
            "tags": []
          },
          "execution_count": 272
        }
      ]
    },
    {
      "cell_type": "code",
      "metadata": {
        "id": "piJNYMgHrb3-",
        "colab_type": "code",
        "colab": {}
      },
      "source": [
        ""
      ],
      "execution_count": null,
      "outputs": []
    },
    {
      "cell_type": "code",
      "metadata": {
        "id": "5T1wg-Lw0nJu",
        "colab_type": "code",
        "colab": {}
      },
      "source": [
        "from sklearn.model_selection import train_test_split\n",
        "train_X,test_X,train_y,test_y = train_test_split(X,y,test_size = 0.25,random_state=1)"
      ],
      "execution_count": 273,
      "outputs": []
    },
    {
      "cell_type": "code",
      "metadata": {
        "id": "m6ncu_0eM94w",
        "colab_type": "code",
        "colab": {}
      },
      "source": [
        "from sklearn.model_selection import GridSearchCV\n",
        "from sklearn.ensemble import RandomForestRegressor\n",
        "n_estimators = [int(x) for x in np.linspace(start = 200, stop = 500, num = 10)]\n",
        "max_depth = [100,200,300,400,500]\n",
        "min_samples_leaf = [1, 2, 4,6]\n",
        "param_grid ={'max_depth': [450],\n",
        "             'max_features': ['log2'],\n",
        "             'min_samples_leaf': [1, 3, 5],\n",
        "             'min_samples_split': [3, 4, 5, 6, 7],\n",
        "             'n_estimators': [100, 200, 300, 400,500]}\n",
        "\n",
        "rf = RandomForestRegressor()\n",
        "\n",
        "grid_search = GridSearchCV(estimator = rf, param_grid = param_grid, \n",
        "                          cv = 3, n_jobs = -1, verbose = 2)"
      ],
      "execution_count": 343,
      "outputs": []
    },
    {
      "cell_type": "code",
      "metadata": {
        "id": "19Wyny1xsOj0",
        "colab_type": "code",
        "colab": {
          "base_uri": "https://localhost:8080/",
          "height": 478
        },
        "outputId": "c7629da1-011a-48c8-a11a-e0ac7c22c407"
      },
      "source": [
        "grid_search.fit(X,y)"
      ],
      "execution_count": 344,
      "outputs": [
        {
          "output_type": "stream",
          "text": [
            "Fitting 3 folds for each of 75 candidates, totalling 225 fits\n"
          ],
          "name": "stdout"
        },
        {
          "output_type": "stream",
          "text": [
            "[Parallel(n_jobs=-1)]: Using backend LokyBackend with 2 concurrent workers.\n",
            "[Parallel(n_jobs=-1)]: Done  37 tasks      | elapsed:  1.4min\n",
            "[Parallel(n_jobs=-1)]: Done 158 tasks      | elapsed:  5.2min\n",
            "[Parallel(n_jobs=-1)]: Done 225 out of 225 | elapsed:  7.2min finished\n"
          ],
          "name": "stderr"
        },
        {
          "output_type": "execute_result",
          "data": {
            "text/plain": [
              "GridSearchCV(cv=3, error_score=nan,\n",
              "             estimator=RandomForestRegressor(bootstrap=True, ccp_alpha=0.0,\n",
              "                                             criterion='mse', max_depth=None,\n",
              "                                             max_features='auto',\n",
              "                                             max_leaf_nodes=None,\n",
              "                                             max_samples=None,\n",
              "                                             min_impurity_decrease=0.0,\n",
              "                                             min_impurity_split=None,\n",
              "                                             min_samples_leaf=1,\n",
              "                                             min_samples_split=2,\n",
              "                                             min_weight_fraction_leaf=0.0,\n",
              "                                             n_estimators=100, n_jobs=None,\n",
              "                                             oob_score=False, random_state=None,\n",
              "                                             verbose=0, warm_start=False),\n",
              "             iid='deprecated', n_jobs=-1,\n",
              "             param_grid={'max_depth': [450], 'max_features': ['log2'],\n",
              "                         'min_samples_leaf': [1, 3, 5],\n",
              "                         'min_samples_split': [3, 4, 5, 6, 7],\n",
              "                         'n_estimators': [100, 200, 300, 400, 500]},\n",
              "             pre_dispatch='2*n_jobs', refit=True, return_train_score=False,\n",
              "             scoring=None, verbose=2)"
            ]
          },
          "metadata": {
            "tags": []
          },
          "execution_count": 344
        }
      ]
    },
    {
      "cell_type": "code",
      "metadata": {
        "id": "4YMj4CRkypqC",
        "colab_type": "code",
        "colab": {
          "base_uri": "https://localhost:8080/",
          "height": 105
        },
        "outputId": "88d8dae7-a0cf-4b31-d1fd-4cd0a05482db"
      },
      "source": [
        "grid_search.best_params_"
      ],
      "execution_count": 345,
      "outputs": [
        {
          "output_type": "execute_result",
          "data": {
            "text/plain": [
              "{'max_depth': 450,\n",
              " 'max_features': 'log2',\n",
              " 'min_samples_leaf': 3,\n",
              " 'min_samples_split': 5,\n",
              " 'n_estimators': 100}"
            ]
          },
          "metadata": {
            "tags": []
          },
          "execution_count": 345
        }
      ]
    },
    {
      "cell_type": "code",
      "metadata": {
        "id": "2uGNfl9kh7sw",
        "colab_type": "code",
        "colab": {
          "base_uri": "https://localhost:8080/",
          "height": 34
        },
        "outputId": "d67043b9-25fa-4da1-f6af-3090415029ce"
      },
      "source": [
        "model = RandomForestRegressor(max_depth = 450,\n",
        "                              max_features= 'log2',\n",
        "                              min_samples_leaf= 3,\n",
        "                              min_samples_split = 5,\n",
        "                              n_estimators= 100)\n",
        "model.fit(train_X,train_y)\n",
        "score = model.score(test_X,test_y)\n",
        "score"
      ],
      "execution_count": 346,
      "outputs": [
        {
          "output_type": "execute_result",
          "data": {
            "text/plain": [
              "0.9063029646866848"
            ]
          },
          "metadata": {
            "tags": []
          },
          "execution_count": 346
        }
      ]
    },
    {
      "cell_type": "code",
      "metadata": {
        "id": "mUWnL05e3On3",
        "colab_type": "code",
        "colab": {
          "base_uri": "https://localhost:8080/",
          "height": 34
        },
        "outputId": "53ddd451-d5bc-43ed-fe28-aaa0f207591b"
      },
      "source": [
        "model = RandomForestRegressor()\n",
        "model.fit(train_X,train_y)\n",
        "score = model.score(test_X,test_y)\n",
        "score"
      ],
      "execution_count": 347,
      "outputs": [
        {
          "output_type": "execute_result",
          "data": {
            "text/plain": [
              "0.9333740329767934"
            ]
          },
          "metadata": {
            "tags": []
          },
          "execution_count": 347
        }
      ]
    },
    {
      "cell_type": "markdown",
      "metadata": {
        "id": "9xcJHT_YDUyk",
        "colab_type": "text"
      },
      "source": [
        "We can Get More Accuracy by default than the Hyperparameter tuning"
      ]
    },
    {
      "cell_type": "code",
      "metadata": {
        "id": "ittn2n4MjECe",
        "colab_type": "code",
        "colab": {}
      },
      "source": [
        "from sklearn.preprocessing import StandardScaler\n",
        "scalar = StandardScaler()\n",
        "X_scal =pd.DataFrame(scalar.fit_transform(X))\n",
        "X_scal.columns = X.columns\n"
      ],
      "execution_count": 339,
      "outputs": []
    },
    {
      "cell_type": "code",
      "metadata": {
        "id": "2PMmyPxLjD65",
        "colab_type": "code",
        "colab": {
          "base_uri": "https://localhost:8080/",
          "height": 217
        },
        "outputId": "3b7fa5e3-be44-4660-c8aa-c5365baf525d"
      },
      "source": [
        "X_scal.head()"
      ],
      "execution_count": 340,
      "outputs": [
        {
          "output_type": "execute_result",
          "data": {
            "text/html": [
              "<div>\n",
              "<style scoped>\n",
              "    .dataframe tbody tr th:only-of-type {\n",
              "        vertical-align: middle;\n",
              "    }\n",
              "\n",
              "    .dataframe tbody tr th {\n",
              "        vertical-align: top;\n",
              "    }\n",
              "\n",
              "    .dataframe thead th {\n",
              "        text-align: right;\n",
              "    }\n",
              "</style>\n",
              "<table border=\"1\" class=\"dataframe\">\n",
              "  <thead>\n",
              "    <tr style=\"text-align: right;\">\n",
              "      <th></th>\n",
              "      <th>subchannel</th>\n",
              "      <th>audience_type</th>\n",
              "      <th>creative_type</th>\n",
              "      <th>creative_name</th>\n",
              "      <th>device</th>\n",
              "      <th>age</th>\n",
              "      <th>impressions</th>\n",
              "      <th>clicks</th>\n",
              "      <th>link_clicks</th>\n",
              "      <th>weekday</th>\n",
              "      <th>day</th>\n",
              "      <th>month</th>\n",
              "      <th>year</th>\n",
              "      <th>google_ads</th>\n",
              "      <th>search</th>\n",
              "      <th>search_keyboard</th>\n",
              "      <th>age_na</th>\n",
              "      <th>link_clicks_na</th>\n",
              "      <th>creative_type_na</th>\n",
              "      <th>creative_name_na</th>\n",
              "    </tr>\n",
              "  </thead>\n",
              "  <tbody>\n",
              "    <tr>\n",
              "      <th>0</th>\n",
              "      <td>0.94197</td>\n",
              "      <td>-0.04671</td>\n",
              "      <td>0.098038</td>\n",
              "      <td>-0.136987</td>\n",
              "      <td>0.707838</td>\n",
              "      <td>-1.314313</td>\n",
              "      <td>-0.116986</td>\n",
              "      <td>-0.267387</td>\n",
              "      <td>-0.118254</td>\n",
              "      <td>-0.486241</td>\n",
              "      <td>0.089696</td>\n",
              "      <td>1.318718</td>\n",
              "      <td>-1.819887</td>\n",
              "      <td>0.338763</td>\n",
              "      <td>0.338763</td>\n",
              "      <td>0.338763</td>\n",
              "      <td>-0.426027</td>\n",
              "      <td>-0.183089</td>\n",
              "      <td>0.338763</td>\n",
              "      <td>0.338763</td>\n",
              "    </tr>\n",
              "    <tr>\n",
              "      <th>1</th>\n",
              "      <td>0.94197</td>\n",
              "      <td>-0.04671</td>\n",
              "      <td>0.098038</td>\n",
              "      <td>-0.136987</td>\n",
              "      <td>0.707838</td>\n",
              "      <td>-0.658325</td>\n",
              "      <td>-0.115759</td>\n",
              "      <td>-0.267387</td>\n",
              "      <td>-0.118254</td>\n",
              "      <td>-0.486241</td>\n",
              "      <td>0.089696</td>\n",
              "      <td>1.318718</td>\n",
              "      <td>-1.819887</td>\n",
              "      <td>0.338763</td>\n",
              "      <td>0.338763</td>\n",
              "      <td>0.338763</td>\n",
              "      <td>-0.426027</td>\n",
              "      <td>-0.183089</td>\n",
              "      <td>0.338763</td>\n",
              "      <td>0.338763</td>\n",
              "    </tr>\n",
              "    <tr>\n",
              "      <th>2</th>\n",
              "      <td>0.94197</td>\n",
              "      <td>-0.04671</td>\n",
              "      <td>0.098038</td>\n",
              "      <td>-0.136987</td>\n",
              "      <td>0.707838</td>\n",
              "      <td>-0.002338</td>\n",
              "      <td>-0.117396</td>\n",
              "      <td>-0.267387</td>\n",
              "      <td>-0.118254</td>\n",
              "      <td>-0.486241</td>\n",
              "      <td>0.089696</td>\n",
              "      <td>1.318718</td>\n",
              "      <td>-1.819887</td>\n",
              "      <td>0.338763</td>\n",
              "      <td>0.338763</td>\n",
              "      <td>0.338763</td>\n",
              "      <td>-0.426027</td>\n",
              "      <td>-0.183089</td>\n",
              "      <td>0.338763</td>\n",
              "      <td>0.338763</td>\n",
              "    </tr>\n",
              "    <tr>\n",
              "      <th>3</th>\n",
              "      <td>0.94197</td>\n",
              "      <td>-0.04671</td>\n",
              "      <td>0.098038</td>\n",
              "      <td>-0.136987</td>\n",
              "      <td>0.707838</td>\n",
              "      <td>-0.658325</td>\n",
              "      <td>-0.115759</td>\n",
              "      <td>-0.200416</td>\n",
              "      <td>-0.118254</td>\n",
              "      <td>-0.486241</td>\n",
              "      <td>0.089696</td>\n",
              "      <td>1.318718</td>\n",
              "      <td>-1.819887</td>\n",
              "      <td>0.338763</td>\n",
              "      <td>0.338763</td>\n",
              "      <td>0.338763</td>\n",
              "      <td>2.347268</td>\n",
              "      <td>-0.183089</td>\n",
              "      <td>0.338763</td>\n",
              "      <td>0.338763</td>\n",
              "    </tr>\n",
              "    <tr>\n",
              "      <th>4</th>\n",
              "      <td>0.94197</td>\n",
              "      <td>-0.04671</td>\n",
              "      <td>0.098038</td>\n",
              "      <td>-0.136987</td>\n",
              "      <td>0.707838</td>\n",
              "      <td>-1.314313</td>\n",
              "      <td>-0.113714</td>\n",
              "      <td>-0.222740</td>\n",
              "      <td>-0.118254</td>\n",
              "      <td>0.524799</td>\n",
              "      <td>0.321871</td>\n",
              "      <td>1.318718</td>\n",
              "      <td>-1.819887</td>\n",
              "      <td>0.338763</td>\n",
              "      <td>0.338763</td>\n",
              "      <td>0.338763</td>\n",
              "      <td>-0.426027</td>\n",
              "      <td>-0.183089</td>\n",
              "      <td>0.338763</td>\n",
              "      <td>0.338763</td>\n",
              "    </tr>\n",
              "  </tbody>\n",
              "</table>\n",
              "</div>"
            ],
            "text/plain": [
              "   subchannel  audience_type  ...  creative_type_na  creative_name_na\n",
              "0     0.94197       -0.04671  ...          0.338763          0.338763\n",
              "1     0.94197       -0.04671  ...          0.338763          0.338763\n",
              "2     0.94197       -0.04671  ...          0.338763          0.338763\n",
              "3     0.94197       -0.04671  ...          0.338763          0.338763\n",
              "4     0.94197       -0.04671  ...          0.338763          0.338763\n",
              "\n",
              "[5 rows x 20 columns]"
            ]
          },
          "metadata": {
            "tags": []
          },
          "execution_count": 340
        }
      ]
    },
    {
      "cell_type": "code",
      "metadata": {
        "id": "CMjIFo8EjDuR",
        "colab_type": "code",
        "colab": {}
      },
      "source": [
        "X_train,X_test,y_train,y_test = train_test_split(X_scal,y,test_size = .3)"
      ],
      "execution_count": 341,
      "outputs": []
    },
    {
      "cell_type": "code",
      "metadata": {
        "id": "7RzJMheG6FkG",
        "colab_type": "code",
        "colab": {
          "base_uri": "https://localhost:8080/",
          "height": 34
        },
        "outputId": "5c95ee59-10c3-4907-9590-48f27fb1801d"
      },
      "source": [
        "model = RandomForestRegressor()\n",
        "model.fit(X_train,y_train)\n",
        "score = model.score(X_test,y_test)\n",
        "score "
      ],
      "execution_count": 342,
      "outputs": [
        {
          "output_type": "execute_result",
          "data": {
            "text/plain": [
              "0.9424523696666719"
            ]
          },
          "metadata": {
            "tags": []
          },
          "execution_count": 342
        }
      ]
    },
    {
      "cell_type": "markdown",
      "metadata": {
        "id": "SNCIJZO4BflK",
        "colab_type": "text"
      },
      "source": [
        "**By Scaling and using Random Forest we can get High accuracy**"
      ]
    },
    {
      "cell_type": "code",
      "metadata": {
        "id": "2fCdmLQIEclh",
        "colab_type": "code",
        "colab": {}
      },
      "source": [
        ""
      ],
      "execution_count": null,
      "outputs": []
    }
  ]
}